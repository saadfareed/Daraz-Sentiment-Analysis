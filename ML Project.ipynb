{
 "cells": [
  {
   "cell_type": "code",
   "execution_count": 104,
   "metadata": {},
   "outputs": [
    {
     "data": {
      "image/png": "[encoded data removed]",
      "text/plain": [
       "<IPython.core.display.Image object>"
      ]
     },
     "execution_count": 104,
     "metadata": {
      "image/png": {
       "height": 100,
       "width": 100
      }
     },
     "output_type": "execute_result"
    }
   ],
   "source": [
    "Image(filename = \"12.png\", width=100, height=100)\n"
   ]
  },
  {
   "cell_type": "markdown",
   "metadata": {},
   "source": [
    "# UNIVERISTY OF ENGINEERING AND TECHNOLOGY LAHORE"
   ]
  },
  {
   "cell_type": "markdown",
   "metadata": {},
   "source": [
    "# ML PROJECT BY GROUP#2"
   ]
  },
  {
   "cell_type": "markdown",
   "metadata": {},
   "source": [
    "                       Noor-ul-Hassan(2018-CS-604)\n",
    "                       \n",
    "                       Muhsin Ikram(2018-CS-617)\n",
    "                       \n",
    "                       Talha Nouman(2018-CS-626)\n",
    "                       \n",
    "                       MUHAMMAD SAAD FAREED (2018-CS-632)"
   ]
  },
  {
   "cell_type": "markdown",
   "metadata": {},
   "source": [
    "### Description of the Project:\n",
    "The project is all about sentiment analysis of Product reviews of Daraz.pk. In our Project we have the target category is ELECTRONIC ACCESSORIES.\n",
    "steps we follow in this project are:\n",
    "\n",
    "###### 1-Scraping of ELECTRONIC ACCESSORIES from Daraz official web https://www.daraz.pk/\n",
    "###### 2-Preprocessing on Scrap data so that we have better results.\n",
    "###### 3-Visualization of Data for better understanding.\n",
    "###### 4-Sentiment analysis"
   ]
  },
  {
   "cell_type": "markdown",
   "metadata": {},
   "source": [
    "# Libraries"
   ]
  },
  {
   "cell_type": "code",
   "execution_count": 1,
   "metadata": {},
   "outputs": [],
   "source": [
    "import pandas as pd \n",
    "import seaborn as sns"
   ]
  },
  {
   "cell_type": "markdown",
   "metadata": {},
   "source": [
    "# Scrap data Load"
   ]
  },
  {
   "cell_type": "code",
   "execution_count": 3,
   "metadata": {},
   "outputs": [
    {
     "data": {
      "text/html": [
       "<div>\n",
       "<style scoped>\n",
       "    .dataframe tbody tr th:only-of-type {\n",
       "        vertical-align: middle;\n",
       "    }\n",
       "\n",
       "    .dataframe tbody tr th {\n",
       "        vertical-align: top;\n",
       "    }\n",
       "\n",
       "    .dataframe thead th {\n",
       "        text-align: right;\n",
       "    }\n",
       "</style>\n",
       "<table border=\"1\" class=\"dataframe\">\n",
       "  <thead>\n",
       "    <tr style=\"text-align: right;\">\n",
       "      <th></th>\n",
       "      <th>ProductNumber</th>\n",
       "      <th>BrandName</th>\n",
       "      <th>BrandTitle</th>\n",
       "      <th>URL</th>\n",
       "      <th>AverageRating</th>\n",
       "      <th>Review</th>\n",
       "    </tr>\n",
       "  </thead>\n",
       "  <tbody>\n",
       "    <tr>\n",
       "      <th>0</th>\n",
       "      <td>Product 1</td>\n",
       "      <td>No Brand</td>\n",
       "      <td>MSK USB Bluetooth Music Receiver with Dual AUX...</td>\n",
       "      <td>https://www.daraz.pk/products/msk-usb-bluetoot...</td>\n",
       "      <td>0.0</td>\n",
       "      <td>NaN</td>\n",
       "    </tr>\n",
       "    <tr>\n",
       "      <th>1</th>\n",
       "      <td>Product 2</td>\n",
       "      <td>AutoJin</td>\n",
       "      <td>Shark Fin Antenna for Car Carbon (Decorative P...</td>\n",
       "      <td>https://www.daraz.pk/products/shark-fin-antenn...</td>\n",
       "      <td>0.0</td>\n",
       "      <td>NaN</td>\n",
       "    </tr>\n",
       "    <tr>\n",
       "      <th>2</th>\n",
       "      <td>Product 3</td>\n",
       "      <td>No Brand</td>\n",
       "      <td>Car Wireless Bluetooth Receiver Adapter 35Mm A...</td>\n",
       "      <td>https://www.daraz.pk/products/car-wireless-blu...</td>\n",
       "      <td>4.5</td>\n",
       "      <td>Nice Product Connection and Sound transmission...</td>\n",
       "    </tr>\n",
       "    <tr>\n",
       "      <th>3</th>\n",
       "      <td>Product 3</td>\n",
       "      <td>No Brand</td>\n",
       "      <td>Car Wireless Bluetooth Receiver Adapter 35Mm A...</td>\n",
       "      <td>https://www.daraz.pk/products/car-wireless-blu...</td>\n",
       "      <td>4.5</td>\n",
       "      <td>very good thing good seller bohat achi kam Kar...</td>\n",
       "    </tr>\n",
       "    <tr>\n",
       "      <th>4</th>\n",
       "      <td>Product 3</td>\n",
       "      <td>No Brand</td>\n",
       "      <td>Car Wireless Bluetooth Receiver Adapter 35Mm A...</td>\n",
       "      <td>https://www.daraz.pk/products/car-wireless-blu...</td>\n",
       "      <td>4.5</td>\n",
       "      <td>thanks a lot Follow my store for other quality...</td>\n",
       "    </tr>\n",
       "    <tr>\n",
       "      <th>...</th>\n",
       "      <td>...</td>\n",
       "      <td>...</td>\n",
       "      <td>...</td>\n",
       "      <td>...</td>\n",
       "      <td>...</td>\n",
       "      <td>...</td>\n",
       "    </tr>\n",
       "    <tr>\n",
       "      <th>1832</th>\n",
       "      <td>Product 683</td>\n",
       "      <td>No Brand</td>\n",
       "      <td>Flawless Pedi Electronic Tool Finishing Touch ...</td>\n",
       "      <td>https://www.daraz.pk/products/flawless-pedi-el...</td>\n",
       "      <td>5.0</td>\n",
       "      <td>Dear CustomerThank You for your valuable feedb...</td>\n",
       "    </tr>\n",
       "    <tr>\n",
       "      <th>1833</th>\n",
       "      <td>Product 683</td>\n",
       "      <td>No Brand</td>\n",
       "      <td>Flawless Pedi Electronic Tool Finishing Touch ...</td>\n",
       "      <td>https://www.daraz.pk/products/flawless-pedi-el...</td>\n",
       "      <td>5.0</td>\n",
       "      <td>10/10 Recommended!Really love the product the ...</td>\n",
       "    </tr>\n",
       "    <tr>\n",
       "      <th>1834</th>\n",
       "      <td>Product 683</td>\n",
       "      <td>No Brand</td>\n",
       "      <td>Flawless Pedi Electronic Tool Finishing Touch ...</td>\n",
       "      <td>https://www.daraz.pk/products/flawless-pedi-el...</td>\n",
       "      <td>5.0</td>\n",
       "      <td>Dear CustomerThank You for your valuable feedb...</td>\n",
       "    </tr>\n",
       "    <tr>\n",
       "      <th>1835</th>\n",
       "      <td>Product 683</td>\n",
       "      <td>No Brand</td>\n",
       "      <td>Flawless Pedi Electronic Tool Finishing Touch ...</td>\n",
       "      <td>https://www.daraz.pk/products/flawless-pedi-el...</td>\n",
       "      <td>5.0</td>\n",
       "      <td>Got the Product Working Fine Seller Was Good a...</td>\n",
       "    </tr>\n",
       "    <tr>\n",
       "      <th>1836</th>\n",
       "      <td>Product 683</td>\n",
       "      <td>No Brand</td>\n",
       "      <td>Flawless Pedi Electronic Tool Finishing Touch ...</td>\n",
       "      <td>https://www.daraz.pk/products/flawless-pedi-el...</td>\n",
       "      <td>5.0</td>\n",
       "      <td>Dear CustomerThank You for your valuable feedb...</td>\n",
       "    </tr>\n",
       "  </tbody>\n",
       "</table>\n",
       "<p>1837 rows × 6 columns</p>\n",
       "</div>"
      ],
      "text/plain": [
       "     ProductNumber BrandName  \\\n",
       "0        Product 1  No Brand   \n",
       "1        Product 2   AutoJin   \n",
       "2        Product 3  No Brand   \n",
       "3        Product 3  No Brand   \n",
       "4        Product 3  No Brand   \n",
       "...            ...       ...   \n",
       "1832   Product 683  No Brand   \n",
       "1833   Product 683  No Brand   \n",
       "1834   Product 683  No Brand   \n",
       "1835   Product 683  No Brand   \n",
       "1836   Product 683  No Brand   \n",
       "\n",
       "                                             BrandTitle  \\\n",
       "0     MSK USB Bluetooth Music Receiver with Dual AUX...   \n",
       "1     Shark Fin Antenna for Car Carbon (Decorative P...   \n",
       "2     Car Wireless Bluetooth Receiver Adapter 35Mm A...   \n",
       "3     Car Wireless Bluetooth Receiver Adapter 35Mm A...   \n",
       "4     Car Wireless Bluetooth Receiver Adapter 35Mm A...   \n",
       "...                                                 ...   \n",
       "1832  Flawless Pedi Electronic Tool Finishing Touch ...   \n",
       "1833  Flawless Pedi Electronic Tool Finishing Touch ...   \n",
       "1834  Flawless Pedi Electronic Tool Finishing Touch ...   \n",
       "1835  Flawless Pedi Electronic Tool Finishing Touch ...   \n",
       "1836  Flawless Pedi Electronic Tool Finishing Touch ...   \n",
       "\n",
       "                                                    URL  AverageRating  \\\n",
       "0     https://www.daraz.pk/products/msk-usb-bluetoot...            0.0   \n",
       "1     https://www.daraz.pk/products/shark-fin-antenn...            0.0   \n",
       "2     https://www.daraz.pk/products/car-wireless-blu...            4.5   \n",
       "3     https://www.daraz.pk/products/car-wireless-blu...            4.5   \n",
       "4     https://www.daraz.pk/products/car-wireless-blu...            4.5   \n",
       "...                                                 ...            ...   \n",
       "1832  https://www.daraz.pk/products/flawless-pedi-el...            5.0   \n",
       "1833  https://www.daraz.pk/products/flawless-pedi-el...            5.0   \n",
       "1834  https://www.daraz.pk/products/flawless-pedi-el...            5.0   \n",
       "1835  https://www.daraz.pk/products/flawless-pedi-el...            5.0   \n",
       "1836  https://www.daraz.pk/products/flawless-pedi-el...            5.0   \n",
       "\n",
       "                                                 Review  \n",
       "0                                                   NaN  \n",
       "1                                                   NaN  \n",
       "2     Nice Product Connection and Sound transmission...  \n",
       "3     very good thing good seller bohat achi kam Kar...  \n",
       "4     thanks a lot Follow my store for other quality...  \n",
       "...                                                 ...  \n",
       "1832  Dear CustomerThank You for your valuable feedb...  \n",
       "1833  10/10 Recommended!Really love the product the ...  \n",
       "1834  Dear CustomerThank You for your valuable feedb...  \n",
       "1835  Got the Product Working Fine Seller Was Good a...  \n",
       "1836  Dear CustomerThank You for your valuable feedb...  \n",
       "\n",
       "[1837 rows x 6 columns]"
      ]
     },
     "execution_count": 3,
     "metadata": {},
     "output_type": "execute_result"
    }
   ],
   "source": [
    "data=pd.read_csv('DarazDataComplete.csv')\n",
    "df = pd.DataFrame(data)\n",
    "data"
   ]
  },
  {
   "cell_type": "markdown",
   "metadata": {},
   "source": [
    "# Data Preprocessing "
   ]
  },
  {
   "cell_type": "code",
   "execution_count": 6,
   "metadata": {},
   "outputs": [
    {
     "data": {
      "text/html": [
       "<div>\n",
       "<style scoped>\n",
       "    .dataframe tbody tr th:only-of-type {\n",
       "        vertical-align: middle;\n",
       "    }\n",
       "\n",
       "    .dataframe tbody tr th {\n",
       "        vertical-align: top;\n",
       "    }\n",
       "\n",
       "    .dataframe thead th {\n",
       "        text-align: right;\n",
       "    }\n",
       "</style>\n",
       "<table border=\"1\" class=\"dataframe\">\n",
       "  <thead>\n",
       "    <tr style=\"text-align: right;\">\n",
       "      <th></th>\n",
       "      <th>ProductNumber</th>\n",
       "      <th>BrandName</th>\n",
       "      <th>BrandTitle</th>\n",
       "      <th>URL</th>\n",
       "      <th>AverageRating</th>\n",
       "      <th>Review</th>\n",
       "    </tr>\n",
       "  </thead>\n",
       "  <tbody>\n",
       "    <tr>\n",
       "      <th>0</th>\n",
       "      <td>Product 3</td>\n",
       "      <td>No Brand</td>\n",
       "      <td>Car Wireless Bluetooth Receiver Adapter 35Mm A...</td>\n",
       "      <td>https://www.daraz.pk/products/car-wireless-blu...</td>\n",
       "      <td>4.5</td>\n",
       "      <td>Nice Product Connection and Sound transmission...</td>\n",
       "    </tr>\n",
       "    <tr>\n",
       "      <th>1</th>\n",
       "      <td>Product 3</td>\n",
       "      <td>No Brand</td>\n",
       "      <td>Car Wireless Bluetooth Receiver Adapter 35Mm A...</td>\n",
       "      <td>https://www.daraz.pk/products/car-wireless-blu...</td>\n",
       "      <td>4.5</td>\n",
       "      <td>very good thing good seller bohat achi kam Kar...</td>\n",
       "    </tr>\n",
       "    <tr>\n",
       "      <th>2</th>\n",
       "      <td>Product 3</td>\n",
       "      <td>No Brand</td>\n",
       "      <td>Car Wireless Bluetooth Receiver Adapter 35Mm A...</td>\n",
       "      <td>https://www.daraz.pk/products/car-wireless-blu...</td>\n",
       "      <td>4.5</td>\n",
       "      <td>thanks a lot Follow my store for other quality...</td>\n",
       "    </tr>\n",
       "    <tr>\n",
       "      <th>3</th>\n",
       "      <td>Product 3</td>\n",
       "      <td>No Brand</td>\n",
       "      <td>Car Wireless Bluetooth Receiver Adapter 35Mm A...</td>\n",
       "      <td>https://www.daraz.pk/products/car-wireless-blu...</td>\n",
       "      <td>4.5</td>\n",
       "      <td>very nice product for the money working fine s...</td>\n",
       "    </tr>\n",
       "    <tr>\n",
       "      <th>4</th>\n",
       "      <td>Product 3</td>\n",
       "      <td>No Brand</td>\n",
       "      <td>Car Wireless Bluetooth Receiver Adapter 35Mm A...</td>\n",
       "      <td>https://www.daraz.pk/products/car-wireless-blu...</td>\n",
       "      <td>4.5</td>\n",
       "      <td>packing ws good delivery before expected time ...</td>\n",
       "    </tr>\n",
       "    <tr>\n",
       "      <th>...</th>\n",
       "      <td>...</td>\n",
       "      <td>...</td>\n",
       "      <td>...</td>\n",
       "      <td>...</td>\n",
       "      <td>...</td>\n",
       "      <td>...</td>\n",
       "    </tr>\n",
       "    <tr>\n",
       "      <th>1530</th>\n",
       "      <td>Product 683</td>\n",
       "      <td>No Brand</td>\n",
       "      <td>Flawless Pedi Electronic Tool Finishing Touch ...</td>\n",
       "      <td>https://www.daraz.pk/products/flawless-pedi-el...</td>\n",
       "      <td>5.0</td>\n",
       "      <td>Dear CustomerThank You for your valuable feedb...</td>\n",
       "    </tr>\n",
       "    <tr>\n",
       "      <th>1531</th>\n",
       "      <td>Product 683</td>\n",
       "      <td>No Brand</td>\n",
       "      <td>Flawless Pedi Electronic Tool Finishing Touch ...</td>\n",
       "      <td>https://www.daraz.pk/products/flawless-pedi-el...</td>\n",
       "      <td>5.0</td>\n",
       "      <td>10/10 Recommended!Really love the product the ...</td>\n",
       "    </tr>\n",
       "    <tr>\n",
       "      <th>1532</th>\n",
       "      <td>Product 683</td>\n",
       "      <td>No Brand</td>\n",
       "      <td>Flawless Pedi Electronic Tool Finishing Touch ...</td>\n",
       "      <td>https://www.daraz.pk/products/flawless-pedi-el...</td>\n",
       "      <td>5.0</td>\n",
       "      <td>Dear CustomerThank You for your valuable feedb...</td>\n",
       "    </tr>\n",
       "    <tr>\n",
       "      <th>1533</th>\n",
       "      <td>Product 683</td>\n",
       "      <td>No Brand</td>\n",
       "      <td>Flawless Pedi Electronic Tool Finishing Touch ...</td>\n",
       "      <td>https://www.daraz.pk/products/flawless-pedi-el...</td>\n",
       "      <td>5.0</td>\n",
       "      <td>Got the Product Working Fine Seller Was Good a...</td>\n",
       "    </tr>\n",
       "    <tr>\n",
       "      <th>1534</th>\n",
       "      <td>Product 683</td>\n",
       "      <td>No Brand</td>\n",
       "      <td>Flawless Pedi Electronic Tool Finishing Touch ...</td>\n",
       "      <td>https://www.daraz.pk/products/flawless-pedi-el...</td>\n",
       "      <td>5.0</td>\n",
       "      <td>Dear CustomerThank You for your valuable feedb...</td>\n",
       "    </tr>\n",
       "  </tbody>\n",
       "</table>\n",
       "<p>1535 rows × 6 columns</p>\n",
       "</div>"
      ],
      "text/plain": [
       "     ProductNumber BrandName  \\\n",
       "0        Product 3  No Brand   \n",
       "1        Product 3  No Brand   \n",
       "2        Product 3  No Brand   \n",
       "3        Product 3  No Brand   \n",
       "4        Product 3  No Brand   \n",
       "...            ...       ...   \n",
       "1530   Product 683  No Brand   \n",
       "1531   Product 683  No Brand   \n",
       "1532   Product 683  No Brand   \n",
       "1533   Product 683  No Brand   \n",
       "1534   Product 683  No Brand   \n",
       "\n",
       "                                             BrandTitle  \\\n",
       "0     Car Wireless Bluetooth Receiver Adapter 35Mm A...   \n",
       "1     Car Wireless Bluetooth Receiver Adapter 35Mm A...   \n",
       "2     Car Wireless Bluetooth Receiver Adapter 35Mm A...   \n",
       "3     Car Wireless Bluetooth Receiver Adapter 35Mm A...   \n",
       "4     Car Wireless Bluetooth Receiver Adapter 35Mm A...   \n",
       "...                                                 ...   \n",
       "1530  Flawless Pedi Electronic Tool Finishing Touch ...   \n",
       "1531  Flawless Pedi Electronic Tool Finishing Touch ...   \n",
       "1532  Flawless Pedi Electronic Tool Finishing Touch ...   \n",
       "1533  Flawless Pedi Electronic Tool Finishing Touch ...   \n",
       "1534  Flawless Pedi Electronic Tool Finishing Touch ...   \n",
       "\n",
       "                                                    URL  AverageRating  \\\n",
       "0     https://www.daraz.pk/products/car-wireless-blu...            4.5   \n",
       "1     https://www.daraz.pk/products/car-wireless-blu...            4.5   \n",
       "2     https://www.daraz.pk/products/car-wireless-blu...            4.5   \n",
       "3     https://www.daraz.pk/products/car-wireless-blu...            4.5   \n",
       "4     https://www.daraz.pk/products/car-wireless-blu...            4.5   \n",
       "...                                                 ...            ...   \n",
       "1530  https://www.daraz.pk/products/flawless-pedi-el...            5.0   \n",
       "1531  https://www.daraz.pk/products/flawless-pedi-el...            5.0   \n",
       "1532  https://www.daraz.pk/products/flawless-pedi-el...            5.0   \n",
       "1533  https://www.daraz.pk/products/flawless-pedi-el...            5.0   \n",
       "1534  https://www.daraz.pk/products/flawless-pedi-el...            5.0   \n",
       "\n",
       "                                                 Review  \n",
       "0     Nice Product Connection and Sound transmission...  \n",
       "1     very good thing good seller bohat achi kam Kar...  \n",
       "2     thanks a lot Follow my store for other quality...  \n",
       "3     very nice product for the money working fine s...  \n",
       "4     packing ws good delivery before expected time ...  \n",
       "...                                                 ...  \n",
       "1530  Dear CustomerThank You for your valuable feedb...  \n",
       "1531  10/10 Recommended!Really love the product the ...  \n",
       "1532  Dear CustomerThank You for your valuable feedb...  \n",
       "1533  Got the Product Working Fine Seller Was Good a...  \n",
       "1534  Dear CustomerThank You for your valuable feedb...  \n",
       "\n",
       "[1535 rows x 6 columns]"
      ]
     },
     "execution_count": 6,
     "metadata": {},
     "output_type": "execute_result"
    }
   ],
   "source": [
    "nan_value = float(\"NaN\")\n",
    "df.replace(\"\", nan_value, inplace=True)\n",
    "\n",
    "df.dropna(subset = [\"Review\"], inplace=True)\n",
    "df = df.reset_index(drop=True)\n",
    "\n",
    "df.to_csv('DarazDataComplete.csv') \n",
    "df"
   ]
  },
  {
   "cell_type": "markdown",
   "metadata": {},
   "source": [
    " # Average Rating of products"
   ]
  },
  {
   "cell_type": "code",
   "execution_count": 37,
   "metadata": {},
   "outputs": [
    {
     "data": {
      "text/plain": [
       "Text(0, 0.5, 'Frequency')"
      ]
     },
     "execution_count": 37,
     "metadata": {},
     "output_type": "execute_result"
    },
    {
     "data": {
      "image/png": "[encoded data removed]",
      "text/plain": [
       "<Figure size 432x288 with 1 Axes>"
      ]
     },
     "metadata": {
      "needs_background": "light"
     },
     "output_type": "display_data"
    }
   ],
   "source": [
    "fig, ax = plt.subplots() \n",
    "# count the occurrence of each class \n",
    "data = df['AverageRating'].value_counts() \n",
    "# get x and y data \n",
    "points = data.index \n",
    "frequency = data.values \n",
    "# create bar chart \n",
    "ax.bar(points, frequency) \n",
    "# set title and labels \n",
    "ax.set_title('Review Stars Analysis') \n",
    "ax.set_xlabel('Stars') \n",
    "ax.set_ylabel('Frequency')\n",
    "#saad"
   ]
  },
  {
   "cell_type": "markdown",
   "metadata": {},
   "source": [
    "# Ratings with respect to different Brands"
   ]
  },
  {
   "cell_type": "code",
   "execution_count": 46,
   "metadata": {},
   "outputs": [
    {
     "data": {
      "text/plain": [
       "<matplotlib.axes._subplots.AxesSubplot at 0x7f81e9098590>"
      ]
     },
     "execution_count": 46,
     "metadata": {},
     "output_type": "execute_result"
    },
    {
     "data": {
      "image/png": "[encoded data removed]",
      "text/plain": [
       "<Figure size 432x288 with 1 Axes>"
      ]
     },
     "metadata": {
      "needs_background": "light"
     },
     "output_type": "display_data"
    }
   ],
   "source": [
    "sns.scatterplot(x='AverageRating', y='BrandName', hue='AverageRating', data=df)"
   ]
  },
  {
   "cell_type": "markdown",
   "metadata": {},
   "source": [
    "# Sentiment Data visualization"
   ]
  },
  {
   "cell_type": "code",
   "execution_count": 105,
   "metadata": {},
   "outputs": [
    {
     "data": {
      "text/html": [
       "<div>\n",
       "<style scoped>\n",
       "    .dataframe tbody tr th:only-of-type {\n",
       "        vertical-align: middle;\n",
       "    }\n",
       "\n",
       "    .dataframe tbody tr th {\n",
       "        vertical-align: top;\n",
       "    }\n",
       "\n",
       "    .dataframe thead th {\n",
       "        text-align: right;\n",
       "    }\n",
       "</style>\n",
       "<table border=\"1\" class=\"dataframe\">\n",
       "  <thead>\n",
       "    <tr style=\"text-align: right;\">\n",
       "      <th></th>\n",
       "      <th>Unnamed: 0</th>\n",
       "      <th>ProductNumber</th>\n",
       "      <th>BrandName</th>\n",
       "      <th>BrandTitle</th>\n",
       "      <th>URL</th>\n",
       "      <th>AverageRating</th>\n",
       "      <th>Review</th>\n",
       "      <th>PolarityNumber</th>\n",
       "      <th>Polarity</th>\n",
       "    </tr>\n",
       "  </thead>\n",
       "  <tbody>\n",
       "    <tr>\n",
       "      <th>0</th>\n",
       "      <td>0</td>\n",
       "      <td>Product 3</td>\n",
       "      <td>No Brand</td>\n",
       "      <td>Car Wireless Bluetooth Receiver Adapter 35Mm A...</td>\n",
       "      <td>https://www.daraz.pk/products/car-wireless-blu...</td>\n",
       "      <td>4.5</td>\n",
       "      <td>Nice Product Connection and Sound transmission...</td>\n",
       "      <td>0.325000</td>\n",
       "      <td>Positive</td>\n",
       "    </tr>\n",
       "    <tr>\n",
       "      <th>1</th>\n",
       "      <td>1</td>\n",
       "      <td>Product 3</td>\n",
       "      <td>No Brand</td>\n",
       "      <td>Car Wireless Bluetooth Receiver Adapter 35Mm A...</td>\n",
       "      <td>https://www.daraz.pk/products/car-wireless-blu...</td>\n",
       "      <td>4.5</td>\n",
       "      <td>very good thing good seller bohat achi kam Kar...</td>\n",
       "      <td>0.805000</td>\n",
       "      <td>Positive</td>\n",
       "    </tr>\n",
       "    <tr>\n",
       "      <th>2</th>\n",
       "      <td>2</td>\n",
       "      <td>Product 3</td>\n",
       "      <td>No Brand</td>\n",
       "      <td>Car Wireless Bluetooth Receiver Adapter 35Mm A...</td>\n",
       "      <td>https://www.daraz.pk/products/car-wireless-blu...</td>\n",
       "      <td>4.5</td>\n",
       "      <td>thanks a lot Follow my store for other quality...</td>\n",
       "      <td>0.091667</td>\n",
       "      <td>Positive</td>\n",
       "    </tr>\n",
       "    <tr>\n",
       "      <th>3</th>\n",
       "      <td>3</td>\n",
       "      <td>Product 3</td>\n",
       "      <td>No Brand</td>\n",
       "      <td>Car Wireless Bluetooth Receiver Adapter 35Mm A...</td>\n",
       "      <td>https://www.daraz.pk/products/car-wireless-blu...</td>\n",
       "      <td>4.5</td>\n",
       "      <td>very nice product for the money working fine s...</td>\n",
       "      <td>0.524167</td>\n",
       "      <td>Positive</td>\n",
       "    </tr>\n",
       "    <tr>\n",
       "      <th>4</th>\n",
       "      <td>4</td>\n",
       "      <td>Product 3</td>\n",
       "      <td>No Brand</td>\n",
       "      <td>Car Wireless Bluetooth Receiver Adapter 35Mm A...</td>\n",
       "      <td>https://www.daraz.pk/products/car-wireless-blu...</td>\n",
       "      <td>4.5</td>\n",
       "      <td>packing ws good delivery before expected time ...</td>\n",
       "      <td>0.375000</td>\n",
       "      <td>Positive</td>\n",
       "    </tr>\n",
       "  </tbody>\n",
       "</table>\n",
       "</div>"
      ],
      "text/plain": [
       "   Unnamed: 0 ProductNumber BrandName  \\\n",
       "0           0     Product 3  No Brand   \n",
       "1           1     Product 3  No Brand   \n",
       "2           2     Product 3  No Brand   \n",
       "3           3     Product 3  No Brand   \n",
       "4           4     Product 3  No Brand   \n",
       "\n",
       "                                          BrandTitle  \\\n",
       "0  Car Wireless Bluetooth Receiver Adapter 35Mm A...   \n",
       "1  Car Wireless Bluetooth Receiver Adapter 35Mm A...   \n",
       "2  Car Wireless Bluetooth Receiver Adapter 35Mm A...   \n",
       "3  Car Wireless Bluetooth Receiver Adapter 35Mm A...   \n",
       "4  Car Wireless Bluetooth Receiver Adapter 35Mm A...   \n",
       "\n",
       "                                                 URL  AverageRating  \\\n",
       "0  https://www.daraz.pk/products/car-wireless-blu...            4.5   \n",
       "1  https://www.daraz.pk/products/car-wireless-blu...            4.5   \n",
       "2  https://www.daraz.pk/products/car-wireless-blu...            4.5   \n",
       "3  https://www.daraz.pk/products/car-wireless-blu...            4.5   \n",
       "4  https://www.daraz.pk/products/car-wireless-blu...            4.5   \n",
       "\n",
       "                                              Review  PolarityNumber  Polarity  \n",
       "0  Nice Product Connection and Sound transmission...        0.325000  Positive  \n",
       "1  very good thing good seller bohat achi kam Kar...        0.805000  Positive  \n",
       "2  thanks a lot Follow my store for other quality...        0.091667  Positive  \n",
       "3  very nice product for the money working fine s...        0.524167  Positive  \n",
       "4  packing ws good delivery before expected time ...        0.375000  Positive  "
      ]
     },
     "execution_count": 105,
     "metadata": {},
     "output_type": "execute_result"
    }
   ],
   "source": [
    "data=pd.read_csv('SentimentDataComplete.csv')\n",
    "df = pd.DataFrame(data)\n",
    "data.head()"
   ]
  },
  {
   "cell_type": "markdown",
   "metadata": {},
   "source": [
    "# Sentiment analysis Graph"
   ]
  },
  {
   "cell_type": "code",
   "execution_count": 106,
   "metadata": {},
   "outputs": [
    {
     "data": {
      "text/plain": [
       "<matplotlib.axes._subplots.AxesSubplot at 0x7f81db5415d0>"
      ]
     },
     "execution_count": 106,
     "metadata": {},
     "output_type": "execute_result"
    },
    {
     "data": {
      "image/png": "[encoded data removed]",
      "text/plain": [
       "<Figure size 432x288 with 1 Axes>"
      ]
     },
     "metadata": {
      "needs_background": "light"
     },
     "output_type": "display_data"
    }
   ],
   "source": [
    "df['Polarity'].value_counts().sort_index().plot.bar()"
   ]
  },
  {
   "cell_type": "code",
   "execution_count": 107,
   "metadata": {},
   "outputs": [
    {
     "data": {
      "text/plain": [
       "<matplotlib.axes._subplots.AxesSubplot at 0x7f81db4c2c50>"
      ]
     },
     "execution_count": 107,
     "metadata": {},
     "output_type": "execute_result"
    },
    {
     "data": {
      "image/png": "[encoded data removed]",
      "text/plain": [
       "<Figure size 360x360 with 1 Axes>"
      ]
     },
     "metadata": {},
     "output_type": "display_data"
    }
   ],
   "source": [
    "df['Polarity'].value_counts().sort_index().plot.pie(autopct='%.2f',figsize=(5,5))"
   ]
  },
  {
   "cell_type": "code",
   "execution_count": 108,
   "metadata": {},
   "outputs": [
    {
     "data": {
      "text/plain": [
       "<matplotlib.axes._subplots.AxesSubplot at 0x7f81db49e890>"
      ]
     },
     "execution_count": 108,
     "metadata": {},
     "output_type": "execute_result"
    },
    {
     "data": {
      "image/png": "[encoded data removed]",
      "text/plain": [
       "<Figure size 432x288 with 1 Axes>"
      ]
     },
     "metadata": {
      "needs_background": "light"
     },
     "output_type": "display_data"
    }
   ],
   "source": [
    "sns.scatterplot(x='PolarityNumber', y='BrandName', hue='Polarity', data=df)"
   ]
  },
  {
   "cell_type": "markdown",
   "metadata": {},
   "source": [
    "# Sentiment Analysis Rating base"
   ]
  },
  {
   "cell_type": "code",
   "execution_count": 110,
   "metadata": {},
   "outputs": [
    {
     "data": {
      "text/html": [
       "<div>\n",
       "<style scoped>\n",
       "    .dataframe tbody tr th:only-of-type {\n",
       "        vertical-align: middle;\n",
       "    }\n",
       "\n",
       "    .dataframe tbody tr th {\n",
       "        vertical-align: top;\n",
       "    }\n",
       "\n",
       "    .dataframe thead th {\n",
       "        text-align: right;\n",
       "    }\n",
       "</style>\n",
       "<table border=\"1\" class=\"dataframe\">\n",
       "  <thead>\n",
       "    <tr style=\"text-align: right;\">\n",
       "      <th></th>\n",
       "      <th>Unnamed: 0</th>\n",
       "      <th>ProductNumber</th>\n",
       "      <th>BrandName</th>\n",
       "      <th>BrandTitle</th>\n",
       "      <th>URL</th>\n",
       "      <th>AverageRating</th>\n",
       "      <th>Review</th>\n",
       "      <th>Sentiment_result</th>\n",
       "    </tr>\n",
       "  </thead>\n",
       "  <tbody>\n",
       "    <tr>\n",
       "      <th>0</th>\n",
       "      <td>0</td>\n",
       "      <td>Product 3</td>\n",
       "      <td>No Brand</td>\n",
       "      <td>Car Wireless Bluetooth Receiver Adapter 35Mm A...</td>\n",
       "      <td>https://www.daraz.pk/products/car-wireless-blu...</td>\n",
       "      <td>4.5</td>\n",
       "      <td>Nice Product Connection and Sound transmission...</td>\n",
       "      <td>Positive</td>\n",
       "    </tr>\n",
       "    <tr>\n",
       "      <th>1</th>\n",
       "      <td>1</td>\n",
       "      <td>Product 3</td>\n",
       "      <td>No Brand</td>\n",
       "      <td>Car Wireless Bluetooth Receiver Adapter 35Mm A...</td>\n",
       "      <td>https://www.daraz.pk/products/car-wireless-blu...</td>\n",
       "      <td>4.5</td>\n",
       "      <td>very good thing good seller bohat achi kam Kar...</td>\n",
       "      <td>Positive</td>\n",
       "    </tr>\n",
       "    <tr>\n",
       "      <th>2</th>\n",
       "      <td>2</td>\n",
       "      <td>Product 3</td>\n",
       "      <td>No Brand</td>\n",
       "      <td>Car Wireless Bluetooth Receiver Adapter 35Mm A...</td>\n",
       "      <td>https://www.daraz.pk/products/car-wireless-blu...</td>\n",
       "      <td>4.5</td>\n",
       "      <td>thanks a lot Follow my store for other quality...</td>\n",
       "      <td>Positive</td>\n",
       "    </tr>\n",
       "    <tr>\n",
       "      <th>3</th>\n",
       "      <td>3</td>\n",
       "      <td>Product 3</td>\n",
       "      <td>No Brand</td>\n",
       "      <td>Car Wireless Bluetooth Receiver Adapter 35Mm A...</td>\n",
       "      <td>https://www.daraz.pk/products/car-wireless-blu...</td>\n",
       "      <td>4.5</td>\n",
       "      <td>very nice product for the money working fine s...</td>\n",
       "      <td>Positive</td>\n",
       "    </tr>\n",
       "    <tr>\n",
       "      <th>4</th>\n",
       "      <td>4</td>\n",
       "      <td>Product 3</td>\n",
       "      <td>No Brand</td>\n",
       "      <td>Car Wireless Bluetooth Receiver Adapter 35Mm A...</td>\n",
       "      <td>https://www.daraz.pk/products/car-wireless-blu...</td>\n",
       "      <td>4.5</td>\n",
       "      <td>packing ws good delivery before expected time ...</td>\n",
       "      <td>Positive</td>\n",
       "    </tr>\n",
       "    <tr>\n",
       "      <th>...</th>\n",
       "      <td>...</td>\n",
       "      <td>...</td>\n",
       "      <td>...</td>\n",
       "      <td>...</td>\n",
       "      <td>...</td>\n",
       "      <td>...</td>\n",
       "      <td>...</td>\n",
       "      <td>...</td>\n",
       "    </tr>\n",
       "    <tr>\n",
       "      <th>1530</th>\n",
       "      <td>1530</td>\n",
       "      <td>Product 683</td>\n",
       "      <td>No Brand</td>\n",
       "      <td>Flawless Pedi Electronic Tool Finishing Touch ...</td>\n",
       "      <td>https://www.daraz.pk/products/flawless-pedi-el...</td>\n",
       "      <td>5.0</td>\n",
       "      <td>Dear CustomerThank You for your valuable feedb...</td>\n",
       "      <td>Positive</td>\n",
       "    </tr>\n",
       "    <tr>\n",
       "      <th>1531</th>\n",
       "      <td>1531</td>\n",
       "      <td>Product 683</td>\n",
       "      <td>No Brand</td>\n",
       "      <td>Flawless Pedi Electronic Tool Finishing Touch ...</td>\n",
       "      <td>https://www.daraz.pk/products/flawless-pedi-el...</td>\n",
       "      <td>5.0</td>\n",
       "      <td>10/10 Recommended!Really love the product the ...</td>\n",
       "      <td>Positive</td>\n",
       "    </tr>\n",
       "    <tr>\n",
       "      <th>1532</th>\n",
       "      <td>1532</td>\n",
       "      <td>Product 683</td>\n",
       "      <td>No Brand</td>\n",
       "      <td>Flawless Pedi Electronic Tool Finishing Touch ...</td>\n",
       "      <td>https://www.daraz.pk/products/flawless-pedi-el...</td>\n",
       "      <td>5.0</td>\n",
       "      <td>Dear CustomerThank You for your valuable feedb...</td>\n",
       "      <td>Positive</td>\n",
       "    </tr>\n",
       "    <tr>\n",
       "      <th>1533</th>\n",
       "      <td>1533</td>\n",
       "      <td>Product 683</td>\n",
       "      <td>No Brand</td>\n",
       "      <td>Flawless Pedi Electronic Tool Finishing Touch ...</td>\n",
       "      <td>https://www.daraz.pk/products/flawless-pedi-el...</td>\n",
       "      <td>5.0</td>\n",
       "      <td>Got the Product Working Fine Seller Was Good a...</td>\n",
       "      <td>Positive</td>\n",
       "    </tr>\n",
       "    <tr>\n",
       "      <th>1534</th>\n",
       "      <td>1534</td>\n",
       "      <td>Product 683</td>\n",
       "      <td>No Brand</td>\n",
       "      <td>Flawless Pedi Electronic Tool Finishing Touch ...</td>\n",
       "      <td>https://www.daraz.pk/products/flawless-pedi-el...</td>\n",
       "      <td>5.0</td>\n",
       "      <td>Dear CustomerThank You for your valuable feedb...</td>\n",
       "      <td>Positive</td>\n",
       "    </tr>\n",
       "  </tbody>\n",
       "</table>\n",
       "<p>1535 rows × 8 columns</p>\n",
       "</div>"
      ],
      "text/plain": [
       "      Unnamed: 0 ProductNumber BrandName  \\\n",
       "0              0     Product 3  No Brand   \n",
       "1              1     Product 3  No Brand   \n",
       "2              2     Product 3  No Brand   \n",
       "3              3     Product 3  No Brand   \n",
       "4              4     Product 3  No Brand   \n",
       "...          ...           ...       ...   \n",
       "1530        1530   Product 683  No Brand   \n",
       "1531        1531   Product 683  No Brand   \n",
       "1532        1532   Product 683  No Brand   \n",
       "1533        1533   Product 683  No Brand   \n",
       "1534        1534   Product 683  No Brand   \n",
       "\n",
       "                                             BrandTitle  \\\n",
       "0     Car Wireless Bluetooth Receiver Adapter 35Mm A...   \n",
       "1     Car Wireless Bluetooth Receiver Adapter 35Mm A...   \n",
       "2     Car Wireless Bluetooth Receiver Adapter 35Mm A...   \n",
       "3     Car Wireless Bluetooth Receiver Adapter 35Mm A...   \n",
       "4     Car Wireless Bluetooth Receiver Adapter 35Mm A...   \n",
       "...                                                 ...   \n",
       "1530  Flawless Pedi Electronic Tool Finishing Touch ...   \n",
       "1531  Flawless Pedi Electronic Tool Finishing Touch ...   \n",
       "1532  Flawless Pedi Electronic Tool Finishing Touch ...   \n",
       "1533  Flawless Pedi Electronic Tool Finishing Touch ...   \n",
       "1534  Flawless Pedi Electronic Tool Finishing Touch ...   \n",
       "\n",
       "                                                    URL  AverageRating  \\\n",
       "0     https://www.daraz.pk/products/car-wireless-blu...            4.5   \n",
       "1     https://www.daraz.pk/products/car-wireless-blu...            4.5   \n",
       "2     https://www.daraz.pk/products/car-wireless-blu...            4.5   \n",
       "3     https://www.daraz.pk/products/car-wireless-blu...            4.5   \n",
       "4     https://www.daraz.pk/products/car-wireless-blu...            4.5   \n",
       "...                                                 ...            ...   \n",
       "1530  https://www.daraz.pk/products/flawless-pedi-el...            5.0   \n",
       "1531  https://www.daraz.pk/products/flawless-pedi-el...            5.0   \n",
       "1532  https://www.daraz.pk/products/flawless-pedi-el...            5.0   \n",
       "1533  https://www.daraz.pk/products/flawless-pedi-el...            5.0   \n",
       "1534  https://www.daraz.pk/products/flawless-pedi-el...            5.0   \n",
       "\n",
       "                                                 Review Sentiment_result  \n",
       "0     Nice Product Connection and Sound transmission...         Positive  \n",
       "1     very good thing good seller bohat achi kam Kar...         Positive  \n",
       "2     thanks a lot Follow my store for other quality...         Positive  \n",
       "3     very nice product for the money working fine s...         Positive  \n",
       "4     packing ws good delivery before expected time ...         Positive  \n",
       "...                                                 ...              ...  \n",
       "1530  Dear CustomerThank You for your valuable feedb...         Positive  \n",
       "1531  10/10 Recommended!Really love the product the ...         Positive  \n",
       "1532  Dear CustomerThank You for your valuable feedb...         Positive  \n",
       "1533  Got the Product Working Fine Seller Was Good a...         Positive  \n",
       "1534  Dear CustomerThank You for your valuable feedb...         Positive  \n",
       "\n",
       "[1535 rows x 8 columns]"
      ]
     },
     "execution_count": 110,
     "metadata": {},
     "output_type": "execute_result"
    }
   ],
   "source": [
    "data=pd.read_csv('result.csv')\n",
    "df = pd.DataFrame(data)\n",
    "data"
   ]
  },
  {
   "cell_type": "code",
   "execution_count": 117,
   "metadata": {},
   "outputs": [
    {
     "data": {
      "text/plain": [
       "<matplotlib.axes._subplots.AxesSubplot at 0x7f81db160390>"
      ]
     },
     "execution_count": 117,
     "metadata": {},
     "output_type": "execute_result"
    },
    {
     "data": {
      "image/png": "[encoded data removed]",
      "text/plain": [
       "<Figure size 432x288 with 1 Axes>"
      ]
     },
     "metadata": {
      "needs_background": "light"
     },
     "output_type": "display_data"
    }
   ],
   "source": [
    "df['Sentiment_result'].value_counts().sort_index().plot.bar()"
   ]
  },
  {
   "cell_type": "code",
   "execution_count": null,
   "metadata": {},
   "outputs": [],
   "source": []
  }
 ],
 "metadata": {
  "kernelspec": {
   "display_name": "Python 3",
   "language": "python",
   "name": "python3"
  },
  "language_info": {
   "codemirror_mode": {
    "name": "ipython",
    "version": 3
   },
   "file_extension": ".py",
   "mimetype": "text/x-python",
   "name": "python",
   "nbconvert_exporter": "python",
   "pygments_lexer": "ipython3",
   "version": "3.7.6"
  }
 },
 "nbformat": 4,
 "nbformat_minor": 4
}
